{
  "nbformat": 4,
  "nbformat_minor": 0,
  "metadata": {
    "kernelspec": {
      "display_name": "Python 3",
      "language": "python",
      "name": "python3"
    },
    "language_info": {
      "codemirror_mode": {
        "name": "ipython",
        "version": 3
      },
      "file_extension": ".py",
      "mimetype": "text/x-python",
      "name": "python",
      "nbconvert_exporter": "python",
      "pygments_lexer": "ipython3",
      "version": "3.6.9"
    },
    "colab": {
      "name": "inpainting.ipynb",
      "provenance": [],
      "collapsed_sections": [],
      "toc_visible": true
    },
    "accelerator": "GPU"
  },
  "cells": [
    {
      "cell_type": "markdown",
      "metadata": {
        "id": "pdyJeESWhqou"
      },
      "source": [
        "This notebook is adapted from the inpainting.ipynb notebook from Ulyanov et al.'s [Deep Image Prior paper](https://sites.skoltech.ru/app/data/uploads/sites/25/2018/04/deep_image_prior.pdf) + [Github repository](https://github.com/DmitryUlyanov/deep-image-prior) as well as Liu et al.'s [Partial Convolutions for Inpainting paper](https://arxiv.org/abs/1804.07723) + [Github repository](https://github.com/MathiasGruber/PConv-Keras). It also uses color restoration developed by Geoff Daniell in [this repository.](https://github.com/stongey/PhotoRestore)"
      ]
    },
    {
      "cell_type": "code",
      "metadata": {
        "id": "jt6fSz174IAM",
        "colab": {
          "base_uri": "https://localhost:8080/"
        },
        "outputId": "bbd10b41-fbb5-4056-b1fd-6bdd8aa93086"
      },
      "source": [
        "# If you are not running this in Colab, comment out this cell.\n",
        "\n",
        "from google.colab import drive     \n",
        "\n",
        "drive.mount('/content/drive')\n"
      ],
      "execution_count": 4,
      "outputs": [
        {
          "output_type": "stream",
          "text": [
            "Drive already mounted at /content/drive; to attempt to forcibly remount, call drive.mount(\"/content/drive\", force_remount=True).\n"
          ],
          "name": "stdout"
        }
      ]
    },
    {
      "cell_type": "code",
      "metadata": {
        "id": "WPJLVR8n4aKw",
        "colab": {
          "base_uri": "https://localhost:8080/"
        },
        "outputId": "d335b435-b9cc-426f-966a-e5dcf7d141f7"
      },
      "source": [
        "cd drive/My\\ Drive/deep-image-prior"
      ],
      "execution_count": 5,
      "outputs": [
        {
          "output_type": "stream",
          "text": [
            "/content/drive/My Drive/deep-image-prior\n"
          ],
          "name": "stdout"
        }
      ]
    },
    {
      "cell_type": "markdown",
      "metadata": {
        "id": "Vn3_sXydu3AM"
      },
      "source": [
        "# Inpainting and Color Restoration on a single image "
      ]
    },
    {
      "cell_type": "markdown",
      "metadata": {
        "id": "tOyeXyonmDGz"
      },
      "source": [
        "In this section, we are performing exclusively the Deep Image Prior method of inpainting, as well as the color restoration by Daniell. All of the inpainting algorithms are implemented further below.\n",
        "\n",
        "First we are importing some libraries and setting some variables. 'painting' refers to the name of the painting to restore. Name your damaged painting image as \"{painting}_orig_crop.jpg\", mask as \"{painting}_mask.jpg\", and ground truth (if available) as \"{painting}_gt.jpg\", or modify the code as needed. The binary mask should be black where you want to inpaint, and white everywhere else. "
      ]
    },
    {
      "cell_type": "code",
      "metadata": {
        "id": "agoWLQZWu3AP"
      },
      "source": [
        "from __future__ import print_function\n",
        "import matplotlib.pyplot as plt\n",
        "%matplotlib inline\n",
        "\n",
        "import os\n",
        "# os.environ['CUDA_VISIBLE_DEVICES'] = '1'\n",
        "import cv2\n",
        "import numpy as np\n",
        "from models.resnet import ResNet\n",
        "from models.unet import UNet\n",
        "from models.skip import skip\n",
        "import torch\n",
        "import torch.optim\n",
        "\n",
        "from utils.inpainting_utils import *\n",
        "\n",
        "torch.backends.cudnn.enabled = True\n",
        "torch.backends.cudnn.benchmark =True\n",
        "dtype = torch.cuda.FloatTensor\n",
        "\n",
        "PLOT = True\n",
        "painting = \"unknown\"\n",
        "dim_div_by = 64"
      ],
      "execution_count": 6,
      "outputs": []
    },
    {
      "cell_type": "code",
      "metadata": {
        "id": "LIbN89-eu3Ak"
      },
      "source": [
        "img_path = f'data/inpainting/{painting}_orig_crop.jpg'\n",
        "mask_path = f'data/inpainting/{painting}_mask.jpg'\n",
        "ground_truth_path = f'data/inpainting/{painting}_gt.jpg'\n",
        "\n",
        "ground_truth = Image.open(ground_truth_path)\n",
        "NET_TYPE = 'skip_depth6' # one of skip_depth4|skip_depth2|UNET|ResNet"
      ],
      "execution_count": 7,
      "outputs": []
    },
    {
      "cell_type": "code",
      "metadata": {
        "id": "E3yZnrMZe81g"
      },
      "source": [
        "img_orig = cv2.imread(img_path)\n",
        "imsize = (img_orig.shape[1], img_orig.shape[0])"
      ],
      "execution_count": 8,
      "outputs": []
    },
    {
      "cell_type": "code",
      "metadata": {
        "id": "xiIuUq5Hu3A3"
      },
      "source": [
        "img_pil, img_np = get_image(img_path, imsize)\n",
        "img_mask_pil, img_mask_np = get_image(mask_path, imsize)"
      ],
      "execution_count": 9,
      "outputs": []
    },
    {
      "cell_type": "code",
      "metadata": {
        "id": "zAWSGvGZu3BD"
      },
      "source": [
        "# Center crop of image and mask\n",
        "img_mask_pil = crop_image(img_mask_pil, dim_div_by)\n",
        "img_pil      = crop_image(img_pil,      dim_div_by)\n",
        "\n",
        "img_np      = pil_to_np(img_pil)\n",
        "img_mask_np = pil_to_np(img_mask_pil)"
      ],
      "execution_count": 10,
      "outputs": []
    },
    {
      "cell_type": "markdown",
      "metadata": {
        "id": "BeUInHXmntwb"
      },
      "source": [
        "Here we can visualize the cropped iamge and mask overlay. Uncomment the cell below to visualize."
      ]
    },
    {
      "cell_type": "code",
      "metadata": {
        "scrolled": true,
        "id": "ObIoatmIu3BP"
      },
      "source": [
        "img_mask_var = np_to_torch(img_mask_np).type(dtype)\n",
        "\n",
        "# plot_image_grid([img_np, img_mask_np, img_mask_np*img_np], 3,11);"
      ],
      "execution_count": 11,
      "outputs": []
    },
    {
      "cell_type": "markdown",
      "metadata": {
        "id": "yc--51A8u3BX"
      },
      "source": [
        "Now we are setting up the network. Feel free to change things as needed."
      ]
    },
    {
      "cell_type": "code",
      "metadata": {
        "id": "XFVHqNl6u3BY"
      },
      "source": [
        "pad = 'zero' # or 'reflection' \n",
        "OPT_OVER = 'net'\n",
        "OPTIMIZER = 'adam'"
      ],
      "execution_count": null,
      "outputs": []
    },
    {
      "cell_type": "code",
      "metadata": {
        "id": "0ZUdlriXu3Bg"
      },
      "source": [
        "if painting in img_path:\n",
        "    \n",
        "    INPUT = 'noise' # or 'meshgrid'\n",
        "    input_depth = 1    #can make 2 or 32?\n",
        "    \n",
        "    num_iter = 5000\n",
        "    show_every = 50\n",
        "    figsize = 8\n",
        "    reg_noise_std = 0.00\n",
        "    param_noise = True\n",
        "    \n",
        "    if 'skip' in NET_TYPE:\n",
        "        \n",
        "        depth = int(NET_TYPE[-1])\n",
        "        net = skip(input_depth, img_np.shape[0], \n",
        "               num_channels_down = [16, 32, 64, 128, 128, 128][:depth],\n",
        "               num_channels_up =   [16, 32, 64, 128, 128, 128][:depth],\n",
        "               num_channels_skip =    [0, 0, 0, 0, 0, 0][:depth],  \n",
        "               filter_size_up = 3,filter_size_down = 5,  filter_skip_size=1,\n",
        "               upsample_mode='nearest', # downsample_mode='avg',\n",
        "               need1x1_up=False,\n",
        "               need_sigmoid=True, need_bias=True, pad=pad, act_fun='LeakyReLU').type(dtype)\n",
        "        \n",
        "        LR = 0.01 \n",
        "        \n",
        "    elif NET_TYPE == 'UNET':\n",
        "        \n",
        "        net = UNet(num_input_channels=input_depth, num_output_channels=3, \n",
        "                   feature_scale=8, more_layers=1, \n",
        "                   concat_x=False, upsample_mode='deconv', \n",
        "                   pad='zero', norm_layer=torch.nn.InstanceNorm2d, need_sigmoid=True, need_bias=True)\n",
        "        \n",
        "        LR = 0.001\n",
        "        param_noise = False\n",
        "        \n",
        "    elif NET_TYPE == 'ResNet':\n",
        "        \n",
        "        net = ResNet(input_depth, img_np.shape[0], 8, 32, need_sigmoid=True, act_fun='LeakyReLU')\n",
        "        \n",
        "        LR = 0.001\n",
        "        param_noise = False\n",
        "        \n",
        "    else:\n",
        "        assert False\n",
        "else:\n",
        "    assert False\n",
        "\n",
        "net = net.type(dtype)\n",
        "net_input = get_noise(input_depth, INPUT, img_np.shape[1:]).type(dtype)"
      ],
      "execution_count": null,
      "outputs": []
    },
    {
      "cell_type": "code",
      "metadata": {
        "id": "hMt9ROITu3Bm",
        "colab": {
          "base_uri": "https://localhost:8080/"
        },
        "outputId": "95514668-2f22-4844-96ca-b6812525d50c"
      },
      "source": [
        "# Compute number of parameters\n",
        "s  = sum(np.prod(list(p.size())) for p in net.parameters())\n",
        "print ('Number of params: %d' % s)\n",
        "\n",
        "# Loss\n",
        "mse = torch.nn.MSELoss().type(dtype)\n",
        "\n",
        "img_var = np_to_torch(img_np).type(dtype)\n",
        "mask_var = np_to_torch(img_mask_np).type(dtype)"
      ],
      "execution_count": null,
      "outputs": [
        {
          "output_type": "stream",
          "text": [
            "Number of params: 2996467\n"
          ],
          "name": "stdout"
        }
      ]
    },
    {
      "cell_type": "markdown",
      "metadata": {
        "id": "a9U3zXN2oM1M"
      },
      "source": [
        "This is the main loop. 'indices' is the crop for each ground truth image to match up to the output from the network, but there's probably a better way to do this (i.e. using their crop image function). "
      ]
    },
    {
      "cell_type": "code",
      "metadata": {
        "scrolled": true,
        "id": "vxsqXo4-u3Bv",
        "colab": {
          "base_uri": "https://localhost:8080/",
          "height": 1000
        },
        "outputId": "fc47b7ce-1b7f-4d35-f4e4-a7b508f0b9a2"
      },
      "source": [
        "i = 0\n",
        "mses = []\n",
        "indices = {'stork':(5,901,26,1754), 'ecce_homo':(3,451,11,331), 'unknown':(9,393,2,322), 'unknown2':(6,198,18,146), 'davinci':(11,587,15,399), 'unknown3':(12,588,21,469), 'monet':(2,322,4,388)}\n",
        "x1, x2, y1, y2 = indices[painting]\n",
        "def closure():\n",
        "    \n",
        "    global i\n",
        "    \n",
        "    if param_noise:\n",
        "        for n in [x for x in net.parameters() if len(x.size()) == 4]:\n",
        "            n = n + n.detach().clone().normal_() * n.std() / 50\n",
        "    \n",
        "    net_input = net_input_saved\n",
        "    if reg_noise_std > 0:\n",
        "        net_input = net_input_saved + (noise.normal_() * reg_noise_std)\n",
        "        \n",
        "        \n",
        "    out = net(net_input)\n",
        "   \n",
        "    total_loss = mse(out * mask_var, img_var * mask_var)\n",
        "    total_loss.backward()\n",
        "        \n",
        "    print ('Iteration %05d    Loss %f' % (i, total_loss.item()), '\\r', end='')\n",
        "    if  PLOT and i % show_every == 0:\n",
        "        out_np = torch_to_np(out)\n",
        "        mses.append(mean_sq_error(Image.fromarray(np.array(ground_truth)[x1:x2,y1:y2]),Image.fromarray((out_np.transpose(1,2,0) * 255).astype(np.uint8))))\n",
        "        print(mean_sq_error(Image.fromarray(np.array(ground_truth)[x1:x2,y1:y2,:]),Image.fromarray((out_np.transpose(1,2,0) * 255).astype(np.uint8)))) # unknown3\n",
        "\n",
        "        plot_image_grid([np.clip(out_np, 0, 1)], factor=figsize, nrow=1)\n",
        "        \n",
        "    i += 1\n",
        "\n",
        "    return total_loss\n",
        "\n",
        "net_input_saved = net_input.detach().clone()\n",
        "noise = net_input.detach().clone()\n",
        "\n",
        "p = get_params(OPT_OVER, net, net_input)\n",
        "optimize(OPTIMIZER, p, closure, LR, num_iter)"
      ],
      "execution_count": null,
      "outputs": []
    },
    {
      "cell_type": "markdown",
      "metadata": {
        "id": "p4AKq9VBofRu"
      },
      "source": [
        "Below is the MSE computed every 50 iterations until iteration 5000 (or your stopping point)."
      ]
    },
    {
      "cell_type": "code",
      "metadata": {
        "id": "lvI6QfRIPMlf"
      },
      "source": [
        "plt.plot([50 * i for i in range(100)], mses)\n",
        "plt.title(f\"MSE of {painting}\")\n",
        "plt.xlabel(\"Iteration\")\n",
        "plt.ylabel(\"MSE\")\n",
        "plt.savefig(f\"MSE_{painting}.jpg\")\n"
      ],
      "execution_count": null,
      "outputs": []
    },
    {
      "cell_type": "code",
      "metadata": {
        "id": "JX5cpZvtu3B2"
      },
      "source": [
        "out_np = torch_to_np(net(net_input))\n",
        "plot_image_grid([out_np], factor=5);"
      ],
      "execution_count": null,
      "outputs": []
    },
    {
      "cell_type": "code",
      "metadata": {
        "id": "eKlgA4bX5hfy"
      },
      "source": [
        "final_img = Image.fromarray((out_np.transpose(1,2,0) * 255).astype(np.uint8))"
      ],
      "execution_count": null,
      "outputs": []
    },
    {
      "cell_type": "markdown",
      "metadata": {
        "id": "6n16NQTZooJv"
      },
      "source": [
        "We are saving the output from the network below - this is not the fully restored painting yet."
      ]
    },
    {
      "cell_type": "code",
      "metadata": {
        "id": "qfXiK16SFO8y"
      },
      "source": [
        "final_img.save(f\"data/{painting}_inpainted_dip.jpg\")"
      ],
      "execution_count": null,
      "outputs": []
    },
    {
      "cell_type": "markdown",
      "metadata": {
        "id": "KG-K_esZo35D"
      },
      "source": [
        "Next, we need to put the generated output onto the original damaged painting in regions we specified with the mask."
      ]
    },
    {
      "cell_type": "code",
      "metadata": {
        "id": "AI9bVjRgF2fe"
      },
      "source": [
        "import matplotlib.pyplot as plt\n",
        "from PIL import Image, ImageOps, ImageFilter, ImageEnhance\n",
        "import cv2"
      ],
      "execution_count": null,
      "outputs": []
    },
    {
      "cell_type": "markdown",
      "metadata": {
        "id": "A3Tg314zpMDM"
      },
      "source": [
        "Sorry for the undescriptive names, but 'before' is the original damaged painting, and mask is the binary mask read in greyscale."
      ]
    },
    {
      "cell_type": "code",
      "metadata": {
        "id": "UWI9swPJYiFi"
      },
      "source": [
        "before = cv2.imread(img_path)\n",
        "before = cv2.cvtColor(before, cv2.COLOR_RGB2BGR)\n",
        "mask = cv2.imread(mask_path,0)"
      ],
      "execution_count": null,
      "outputs": []
    },
    {
      "cell_type": "markdown",
      "metadata": {
        "id": "gF_eLmlepXi1"
      },
      "source": [
        "We are adding padding... there's also probably a better way to do this like using 'np.pad' but this works well enough."
      ]
    },
    {
      "cell_type": "code",
      "metadata": {
        "id": "paw2mPZyY6wX"
      },
      "source": [
        "reshaped_img = np.zeros(before.shape)\n",
        "final_out = np.array(final_img)"
      ],
      "execution_count": null,
      "outputs": []
    },
    {
      "cell_type": "code",
      "metadata": {
        "id": "ZvvZ49TSbxkW"
      },
      "source": [
        "diff_shape_0 = before.shape[0] - final_out.shape[0]\n",
        "diff_shape_1 = before.shape[1] - final_out.shape[1]\n",
        "\n",
        "reshaped_img[diff_shape_0 // 2:final_out.shape[0] + diff_shape_0//2, diff_shape_1 // 2:final_out.shape[1] + diff_shape_1//2,:] = final_img"
      ],
      "execution_count": null,
      "outputs": []
    },
    {
      "cell_type": "markdown",
      "metadata": {
        "id": "LMBkrFCppgWX"
      },
      "source": [
        "Visualization of the padded generated output."
      ]
    },
    {
      "cell_type": "code",
      "metadata": {
        "id": "epkZyCvoclt2"
      },
      "source": [
        "Image.fromarray(reshaped_img.astype(np.uint8))"
      ],
      "execution_count": null,
      "outputs": []
    },
    {
      "cell_type": "markdown",
      "metadata": {
        "id": "ghBNbegXp1V1"
      },
      "source": [
        "Below is where we are appending the generated output to the original damaged input based on regions specified by the mask."
      ]
    },
    {
      "cell_type": "code",
      "metadata": {
        "id": "au1iKo2Cdanx"
      },
      "source": [
        "locs = np.where(mask<100)\n",
        "edit_before = before.copy()\n",
        "edit_before[locs] = reshaped_img[locs]\n"
      ],
      "execution_count": null,
      "outputs": []
    },
    {
      "cell_type": "code",
      "metadata": {
        "id": "aQ5Z0NlFdwnF"
      },
      "source": [
        "Image.fromarray(edit_before)"
      ],
      "execution_count": null,
      "outputs": []
    },
    {
      "cell_type": "code",
      "metadata": {
        "id": "FG3X_ChhdyP0"
      },
      "source": [
        "Image.fromarray(edit_before).save(f\"data/{painting}_final.jpg\")"
      ],
      "execution_count": null,
      "outputs": []
    },
    {
      "cell_type": "markdown",
      "metadata": {
        "id": "Sf3NwFpJqApY"
      },
      "source": [
        "The MSE of the inpainted painting and the ground truth."
      ]
    },
    {
      "cell_type": "code",
      "metadata": {
        "id": "Obt62A4JUUJH"
      },
      "source": [
        "mean_sq_error(edit_before, ground_truth)"
      ],
      "execution_count": null,
      "outputs": []
    },
    {
      "cell_type": "markdown",
      "metadata": {
        "id": "-rs2m6i4qRko"
      },
      "source": [
        "## Color Restoration"
      ]
    },
    {
      "cell_type": "code",
      "metadata": {
        "id": "ltfLaFVjhHBY"
      },
      "source": [
        "from pyrestore_3 import restore"
      ],
      "execution_count": null,
      "outputs": []
    },
    {
      "cell_type": "code",
      "metadata": {
        "id": "C-b3_nZm5oEl"
      },
      "source": [
        "final_restored = Image.fromarray(edit_before.copy())"
      ],
      "execution_count": null,
      "outputs": []
    },
    {
      "cell_type": "code",
      "metadata": {
        "id": "wLA-it8E8Hdk",
        "colab": {
          "base_uri": "https://localhost:8080/",
          "height": 256
        },
        "outputId": "16287bae-7b0d-4e52-f086-d781149fac96"
      },
      "source": [
        "col_img = restore(final_restored, f'{painting}.jpg')\n",
        "col_img"
      ],
      "execution_count": null,
      "outputs": [
        {
          "output_type": "stream",
          "text": [
            "/content/drive/My Drive/deep-image-prior/pyrestore_3.py:504: RuntimeWarning: invalid value encountered in double_scalars\n",
            "  sum_sat += sqrt(ustar**2 + vstar**2) / Lstar\n"
          ],
          "name": "stderr"
        },
        {
          "output_type": "execute_result",
          "data": {
            "image/png": "[encoded data removed]",
            "text/plain": [
              "<PIL.Image.Image image mode=RGB size=165x204 at 0x7F5E324C1CC0>"
            ]
          },
          "metadata": {
            "tags": []
          },
          "execution_count": 234
        }
      ]
    },
    {
      "cell_type": "markdown",
      "metadata": {
        "id": "o4mHUgjN5p6u"
      },
      "source": [
        "# Inpainting Evaluation"
      ]
    },
    {
      "cell_type": "markdown",
      "metadata": {
        "id": "-7NiIyuwqmB6"
      },
      "source": [
        "In this section we are evaluating the different inpainting algorithms. The five are in functions at the very bottom, it can also probably be organized/modularized better. If you are running the PConvUnet, you should install the requirements below which may require that you restart your runtime. "
      ]
    },
    {
      "cell_type": "code",
      "metadata": {
        "id": "f73Zr6vAqkO0"
      },
      "source": [
        "pip install -r requirements.txt"
      ],
      "execution_count": null,
      "outputs": []
    },
    {
      "cell_type": "code",
      "metadata": {
        "id": "o_5jFyT5BOUX",
        "colab": {
          "base_uri": "https://localhost:8080/"
        },
        "outputId": "9640b8b2-6f9f-4944-e9c3-acd0638a1514"
      },
      "source": [
        "import numpy as np\n",
        "from PIL import Image, ImageOps, ImageFilter, ImageEnhance\n",
        "import matplotlib.pyplot as plt\n",
        "from copy import deepcopy\n",
        "import cv2\n",
        "from libs.pconv_model import PConvUnet\n",
        "from libs.util import MaskGenerator, ImageChunker\n",
        "import tensorflow as tf\n",
        "\n",
        "\n",
        "%load_ext autoreload\n",
        "%autoreload 2"
      ],
      "execution_count": null,
      "outputs": [
        {
          "output_type": "stream",
          "text": [
            "Using TensorFlow backend.\n"
          ],
          "name": "stderr"
        }
      ]
    },
    {
      "cell_type": "code",
      "metadata": {
        "id": "PliPhwLTPDpM"
      },
      "source": [
        "NET_TYPE = 'skip_depth6' # one of skip_depth4|skip_depth2|UNET|ResNet\n",
        "\n",
        "pad = 'zero' # or 'reflection' \n",
        "OPT_OVER = 'net'\n",
        "OPTIMIZER = 'adam'\n",
        "\n",
        "INPUT = 'noise' # or 'meshgrid'\n",
        "input_depth = 1    #can make 2 or 32?\n",
        "\n",
        "num_iter = 5000\n",
        "show_every = 1000\n",
        "figsize = 8\n",
        "reg_noise_std = 0.00\n",
        "param_noise = True\n",
        "\n",
        "depth = int(NET_TYPE[-1])\n",
        "\n",
        "i = 0"
      ],
      "execution_count": null,
      "outputs": []
    },
    {
      "cell_type": "code",
      "metadata": {
        "colab": {
          "base_uri": "https://localhost:8080/",
          "height": 1000
        },
        "id": "OOZhLbLU6Zr1",
        "outputId": "fa7bcba2-1b89-46f9-90d6-48268a1e08e0"
      },
      "source": [
        "painting_names = ['stork','ecce_homo', 'unknown', 'unknown2', 'unknown3', 'monet', 'davinci']\n",
        "\n",
        "inpainting_algs = ['dip', 'pconv', 'hw', 'ns', 'telea']\n",
        "# mses_dip, mses_pconv, mses_hw, mses_ns, mses_telea = [], [], [], [], []\n",
        "# mses_pconv = []\n",
        "mses_dip = []\n",
        "for painting in painting_names:\n",
        "    print(\"NEW PAINTING:\",painting)\n",
        "    img_path = f'data/inpainting/{painting}_orig_crop.jpg'\n",
        "    mask_path = f'data/inpainting/{painting}_mask.jpg'\n",
        "    ground_truth_path = f'data/inpainting/{painting}_gt.jpg'\n",
        "\n",
        "    ground_truth_img = Image.open(ground_truth_path)\n",
        "    orig_img = Image.open(img_path)\n",
        "    mask_img = Image.open(mask_path)\n",
        "\n",
        "    x, y, _ = np.array(orig_img).shape\n",
        "    imsize = (y, x)\n",
        "\n",
        "\n",
        "    for alg in inpainting_algs:\n",
        "        print(alg)\n",
        "        if alg == 'dip':\n",
        "            mses_dip.append(dip(painting))\n",
        "\n",
        "        # if alg == 'hw':\n",
        "            # mses_hw.append(hw(painting))\n",
        "        \n",
        "        # if alg == 'ns':\n",
        "            # mses_ns.append(ns(painting))\n",
        "        \n",
        "        # if alg == 'telea':\n",
        "            # mses_telea.append(telea(painting))\n",
        "        \n",
        "        # if alg == 'pconv':\n",
        "            # mses_pconv.append(pconv(painting))\n",
        "        print(\"MSE DIP AFTER \",alg,\":\",mses_dip)\n",
        "        \n",
        "          \n",
        "        "
      ],
      "execution_count": null,
      "outputs": []
    },
    {
      "cell_type": "code",
      "metadata": {
        "id": "d0XJ6hXZ-UEF"
      },
      "source": [
        "def dip(painting):\n",
        "    img_pil, img_np = get_image(img_path, imsize)\n",
        "    img_mask_pil, img_mask_np = get_image(mask_path, imsize)\n",
        "    \n",
        "    \n",
        "    img_mask_pil = crop_image(img_mask_pil, dim_div_by)\n",
        "    img_pil      = crop_image(img_pil,      dim_div_by)\n",
        "    \n",
        "    img_np      = pil_to_np(img_pil)\n",
        "    img_mask_np = pil_to_np(img_mask_pil)\n",
        "    \n",
        "    img_mask_var = np_to_torch(img_mask_np).type(dtype)\n",
        "    print(\"Plotted Image:\")\n",
        "    plot_image_grid([img_np, img_mask_np, img_mask_np*img_np], 3,11)\n",
        "    net = skip(input_depth, img_np.shape[0], \n",
        "          num_channels_down = [16, 32, 64, 128, 128, 128][:depth],\n",
        "          num_channels_up =   [16, 32, 64, 128, 128, 128][:depth],\n",
        "          num_channels_skip =    [0, 0, 0, 0, 0, 0][:depth],  \n",
        "          filter_size_up = 3,filter_size_down = 5,  filter_skip_size=1,\n",
        "          upsample_mode='nearest', # downsample_mode='avg',\n",
        "          need1x1_up=False,\n",
        "          need_sigmoid=True, need_bias=True, pad=pad, act_fun='LeakyReLU').type(dtype)\n",
        "    \n",
        "    LR = 0.01\n",
        "    \n",
        "    net = net.type(dtype)\n",
        "    net_input = get_noise(input_depth, INPUT, img_np.shape[1:]).type(dtype)\n",
        "    # Compute number of parameters\n",
        "    s  = sum(np.prod(list(p.size())) for p in net.parameters())\n",
        "    print ('Number of params: %d' % s)\n",
        "    \n",
        "    # Loss\n",
        "    mse = torch.nn.MSELoss().type(dtype)\n",
        "    \n",
        "    img_var = np_to_torch(img_np).type(dtype)\n",
        "    mask_var = np_to_torch(img_mask_np).type(dtype)\n",
        "  \n",
        "    \n",
        "    mses = []\n",
        "    indices = {'stork':(5,901,26,1754), 'ecce_homo':(3,451,11,331), 'unknown':(13,397,11,331), 'unknown2':(6,198,18,146), 'davinci':(11,587,15,399), 'unknown3':(12,588,21,469), 'monet':(2,322,4,388)}\n",
        "    x1, x2, y1, y2 = indices[painting]\n",
        "    def closure():\n",
        "        \n",
        "        global i\n",
        "        \n",
        "        if param_noise:\n",
        "            for n in [x for x in net.parameters() if len(x.size()) == 4]:\n",
        "                n = n + n.detach().clone().normal_() * n.std() / 50\n",
        "        \n",
        "        net_input = net_input_saved\n",
        "        if reg_noise_std > 0:\n",
        "            net_input = net_input_saved + (noise.normal_() * reg_noise_std)\n",
        "            \n",
        "            \n",
        "        out = net(net_input)\n",
        "      \n",
        "        total_loss = mse(out * mask_var, img_var * mask_var)\n",
        "        total_loss.backward()\n",
        "            \n",
        "        print ('Iteration %05d    Loss %f' % (i, total_loss.item()), '\\r', end='')\n",
        "        if  PLOT and i % show_every == 0:\n",
        "            out_np = torch_to_np(out)\n",
        "            # print(out_np.shape)\n",
        "            # mses.append(mean_sq_error(Image.fromarray(np.array(ground_truth_img)[x1:x2,y1:y2]),Image.fromarray((out_np.transpose(1,2,0) * 255).astype(np.uint8))))\n",
        "            # print(mean_sq_error(Image.fromarray(np.array(ground_truth_img)[x1:x2,y1:y2,:]),Image.fromarray((out_np.transpose(1,2,0) * 255).astype(np.uint8)))) # unknown3\n",
        "    \n",
        "    \n",
        "            plot_image_grid([np.clip(out_np, 0, 1)], factor=figsize, nrow=1)\n",
        "            \n",
        "        i += 1\n",
        "    \n",
        "        return total_loss\n",
        "    \n",
        "    net_input_saved = net_input.detach().clone()\n",
        "    noise = net_input.detach().clone()\n",
        "    \n",
        "    p = get_params(OPT_OVER, net, net_input)\n",
        "    optimize(OPTIMIZER, p, closure, LR, num_iter)\n",
        "    \n",
        "    # plt.plot([50 * i for i in range(100)], mses)\n",
        "    # plt.title(f\"MSE of {painting}\")\n",
        "    # plt.xlabel(\"Iteration\")\n",
        "    # plt.ylabel(\"MSE\")\n",
        "    # plt.savefig(f\"MSE_{painting}.jpg\")\n",
        "    \n",
        "    \n",
        "    out_np = torch_to_np(net(net_input))\n",
        "    final_img = Image.fromarray((out_np.transpose(1,2,0) * 255).astype(np.uint8))\n",
        "    before = cv2.imread(img_path)\n",
        "    before = cv2.cvtColor(before, cv2.COLOR_RGB2BGR)\n",
        "    mask = cv2.imread(mask_path,0)\n",
        "    \n",
        "    reshaped_img = np.zeros(before.shape)\n",
        "    final_out = np.array(final_img)\n",
        "    diff_shape_0 = before.shape[0] - final_out.shape[0]\n",
        "    diff_shape_1 = before.shape[1] - final_out.shape[1]\n",
        "    reshaped_img[diff_shape_0 // 2:final_out.shape[0] + diff_shape_0//2, diff_shape_1 // 2:final_out.shape[1] + diff_shape_1//2,:] = final_img\n",
        "    locs = np.where(mask<100)\n",
        "    edit_before = before.copy()\n",
        "    edit_before[locs] = reshaped_img[locs]\n",
        "    Image.fromarray(edit_before).save(f\"data/final/{painting}_{alg}.jpg\")\n",
        "    print(np.array(edit_before).shape)\n",
        "    print(np.array(ground_truth_img).shape)\n",
        "    return mean_sq_error(edit_before, ground_truth_img)"
      ],
      "execution_count": null,
      "outputs": []
    },
    {
      "cell_type": "code",
      "metadata": {
        "id": "skiZfoKv-qai"
      },
      "source": [
        "def is_border(img, i, j, pxl_color, H, W):\n",
        "    count = 0\n",
        "    for x in range(-1, 2):\n",
        "        for y in range(-1, 2):\n",
        "#             print(x,y)\n",
        "            if j + y < W and x + i < H:\n",
        "                if tuple(img[i + x, j + y,:]) != pxl_color:\n",
        "                    count += 1\n",
        "    if count > 3:\n",
        "        return True\n",
        "    return False\n",
        "\n",
        "def get_border(img, mask, pxl_color, change_to, H, W):\n",
        "    for i in range(H):\n",
        "        for j in range(W):\n",
        "    #         print(tuple(img_temp2[i,j,:]))\n",
        "            if tuple(img[i,j,:]) == pxl_color:\n",
        "                if is_border(img, i, j, pxl_color, H, W):\n",
        "                    img[i,j,:] = change_to\n",
        "\n",
        "def most_common(img, mask, i, j, H, W):\n",
        "    count = {}\n",
        "    colors = []\n",
        "    for x in range(-1, 2):\n",
        "        for y in range(-1, 2):\n",
        "            if j + y < W and x + i < H:\n",
        "                if tuple(img[i + x, j + y,:]) != (145, 44, 238) and tuple(img[i + x, j + y, :]) != (255, 255, 255):\n",
        "                    colors.append(tuple(img[i+x,j+y,:]))\n",
        "                    if tuple(img[i+x,j+y,:]) not in count:\n",
        "                        count[tuple(img[i+x,j+y,:])] = 1\n",
        "                    else:\n",
        "                        count[tuple(img[i+x,j+y,:])] += 1\n",
        "\n",
        "        \n",
        "    x = max(count)\n",
        "    y = max(set(colors), key=colors.count)\n",
        "\n",
        "    return(y)\n",
        "\n",
        "\n",
        "def hw(painting):\n",
        "    before = cv2.imread(img_path)\n",
        "    before = cv2.cvtColor(before, cv2.COLOR_RGB2BGR)\n",
        "    H, W, _ = before.shape\n",
        "    mask = cv2.imread(mask_path,0)\n",
        "\n",
        "    locs = np.where(mask < 2)\n",
        "    locs2 = np.where(mask > 250)\n",
        "    mask[locs] = 0 \n",
        "    mask[locs2] = 255 \n",
        "\n",
        "    print(np.unique(mask))\n",
        "    img_orig = before.copy()\n",
        "    plt.imshow(img_orig)\n",
        "    locs = np.where(mask < 100)\n",
        "    img_temp2 = before.copy()\n",
        "    img_temp2[locs[0],locs[1],:] = [145, 44, 238]\n",
        "    img_temp3 = img_temp2.copy()\n",
        "\n",
        "    def change_border(img):\n",
        "        for i in range(H):\n",
        "            for j in range(W):\n",
        "                if tuple(img_temp2[i,j,:]) == (255, 255, 255):\n",
        "                    col = most_common(img, mask, i, j, H, W)\n",
        "                    img[i,j,:] = col\n",
        "                    img_orig[i,j,:] = col\n",
        "    for i in range(10):\n",
        "        get_border(img_temp2, mask, (145, 44, 238), [255, 255, 255], H, W)\n",
        "        change_border(img_temp3)\n",
        "        img_temp2 = img_temp3.copy()\n",
        "\n",
        "    plt.imshow(img_temp2)\n",
        "    Image.fromarray(img_temp2).save(f\"data/final/{painting}_{alg}.jpg\")\n",
        "\n",
        "    return mean_sq_error(img_temp2, ground_truth_img)"
      ],
      "execution_count": null,
      "outputs": []
    },
    {
      "cell_type": "code",
      "metadata": {
        "id": "JC3AH7V8CXWH"
      },
      "source": [
        "def ns(painting):\n",
        "    \n",
        "    before = cv2.imread(img_path)\n",
        "    before = cv2.cvtColor(before, cv2.COLOR_RGB2BGR)\n",
        "    plt.imshow(before)\n",
        "    mask = cv2.imread(mask_path,0)\n",
        "    mask = cv2.imread(mask_path,0)\n",
        "    locs = np.where(mask < 2)\n",
        "    locs2 = np.where(mask > 250)\n",
        "    mask[locs] = 255\n",
        "    mask[locs2] = 0\n",
        "    after_ns = cv2.inpaint(before,mask,3,cv2.INPAINT_NS)\n",
        "    Image.fromarray(after_ns).save(f\"data/final/{painting}_{alg}.jpg\")\n",
        "    plt.imshow(after_ns)\n",
        "    return mean_sq_error(after_ns, ground_truth_img)"
      ],
      "execution_count": null,
      "outputs": []
    },
    {
      "cell_type": "code",
      "metadata": {
        "id": "ZSoef5_-EfFJ"
      },
      "source": [
        "def telea(painting):\n",
        "    before = cv2.imread(img_path)\n",
        "    before = cv2.cvtColor(before, cv2.COLOR_RGB2BGR)\n",
        "    # plt.imshow(before)\n",
        "    mask = cv2.imread(mask_path,0)\n",
        "    locs = np.where(mask < 2)\n",
        "    locs2 = np.where(mask > 250)\n",
        "    mask[locs] = 255\n",
        "    mask[locs2] = 0\n",
        "    print(np.unique(mask)) \n",
        "    after_telea = cv2.inpaint(before,mask,3,cv2.INPAINT_TELEA)\n",
        "    plt.imshow(after_telea)\n",
        "    Image.fromarray(after_telea).save(f\"data/final/{painting}_{alg}.jpg\")\n",
        "    return mean_sq_error(after_telea, ground_truth_img)"
      ],
      "execution_count": null,
      "outputs": []
    },
    {
      "cell_type": "code",
      "metadata": {
        "id": "RPUpgu-pErDI"
      },
      "source": [
        "def pconv(painting):\n",
        "    BATCH_SIZE = 4\n",
        "    sample = Image.open(img_path)\n",
        "    H, W, _ = np.array(sample).shape\n",
        "    crop = [H, W]\n",
        "    img = np.array(sample) / 255\n",
        "    mask = MaskGenerator(*crop, filepath=f'data/inpainting/{painting}')._load_mask(False, False, False)\n",
        "\n",
        "    model = PConvUnet(inference_only=True)#vgg_weights=None, inference_only=True)\n",
        "    model.load(r\"data/pconv_imagenet.03-11.07.h5\", train_bn=False)\n",
        "    chunker = ImageChunker(512, 512, 30)\n",
        "\n",
        "    chunked_images = chunker.dimension_preprocess(deepcopy(img))\n",
        "    chunked_masks = chunker.dimension_preprocess(deepcopy(mask))\n",
        "    pred_imgs = model.predict([chunked_images, chunked_masks])\n",
        "    reconstructed_image = chunker.dimension_postprocess(pred_imgs, img)\n",
        "    output = Image.fromarray((reconstructed_image * 255).astype(np.uint8))\n",
        "    output.save(f\"data/final/{painting}_{alg}.jpg\")\n",
        "    return mean_sq_error(output, ground_truth_img)\n"
      ],
      "execution_count": null,
      "outputs": []
    },
    {
      "cell_type": "code",
      "metadata": {
        "id": "Zj0O4MMNKlLi"
      },
      "source": [
        "with open(\"data/mses.txt\", 'a') as f:\n",
        "    # f.write(f\"mses_hw,{np.mean(mses_hw)},{mses_hw}\\n\")\n",
        "    # f.write(f\"mses_ns,{np.mean(mses_ns)},{mses_ns}\\n\")\n",
        "    # f.write(f\"mses_telea,{np.mean(mses_telea)},{mses_telea}\\n\")\n",
        "    # f.write(f\"mses_pconv,{np.mean(mses_pconv)},{mses_pconv}\\n\")\n",
        "    f.write(f\"mses_dip,{np.mean(mses_dip)},{mses_dip}\\n\")\n"
      ],
      "execution_count": null,
      "outputs": []
    }
  ]
}